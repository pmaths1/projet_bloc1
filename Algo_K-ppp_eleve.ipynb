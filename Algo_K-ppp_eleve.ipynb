{
 "cells": [
  {
   "cell_type": "markdown",
   "metadata": {},
   "source": [
    "# Algorithme des *k* plus proches voisins - VERSION ELEVE\n",
    "\n",
    "L'objectif de ce TP est de mettre en œuvre une méthode, celle des $k$ plus proches voisins, qui permet à l’ordinateur de reconnaître automatiquement des chiffres manuscrits (pour lire des chèques, lire des codes postaux par exemple). ![enveloppe](lettres.jpg)\n",
    "\n",
    "Les chiffres seront donnés sous forme d’images, puisqu’ils sont scannés par une machine avant d’être traités par l’ordinateur.\n",
    "\n",
    "## 1. Distance entre deux images\n",
    "\n",
    "### 1.1. Définition d’une distance particulière\n",
    "\n",
    "Pour évaluer la différence entre deux images, on va définir une distance entre deux images. Les images que nous traiterons sont au format [PGM](https://fr.wikipedia.org/wiki/Portable_pixmap#Fichier_binaire_2), c'est à dire en niveau de gris.\n",
    "\n",
    "* Pour tous les pixels de l'image on calcule la différence des valeurs d'intensité, dont on supprime le signe (abs)\n",
    "* On somme toutes ces différences\n",
    "\n",
    "1. Déterminer à la main la distance entre les deux images ci-dessous.\n",
    "\n",
    "![comparaison](distance_eleve.png)\n",
    "\n",
    "\n"
   ]
  },
  {
   "cell_type": "raw",
   "metadata": {},
   "source": [
    "1. La distance vaut : (compléter) "
   ]
  },
  {
   "cell_type": "markdown",
   "metadata": {},
   "source": [
    "2. Écrire une fonction qui calcule la distance entre deux images. Une image sera représentée comme une liste d’entiers, valeurs de gris des pixels."
   ]
  },
  {
   "cell_type": "code",
   "execution_count": null,
   "metadata": {},
   "outputs": [],
   "source": [
    "# compléter le code\n",
    "def distance (a, b):\n",
    "  ..."
   ]
  },
  {
   "cell_type": "markdown",
   "metadata": {},
   "source": [
    "### 2.2. Exemple d'utilisation\n",
    "\n",
    "Nous allons calculer la distance entre les images suivantes :\n",
    "\n",
    "|ecrit1.pgm|ecrit2.pgm|ecrit3.pgm|\n",
    "|------|------|-----|\n",
    "|![chiffre5](ecrit1.png)|![chiffre5](ecrit2.png)|![chiffre5](ecrit3.png)|\n",
    "\n",
    "On cherche à comparer la première image aux deux suivantes. Bien sûr, nous savons très bien dire quelle image lui ressemble le plus. Cependant notre but étant d’avoir un moyen automatique, nous devons vérifier que celui que nous utilisons fonctionne bien.\n",
    "\n",
    "3. Déterminer les distances entre la première image avec chacune des deux autres, et déterminer alors laquelle est la plus proche de la première.\n",
    "\n",
    "Pour cela, on utilise la librairie de manipulation d’images PIL.\n",
    "\n",
    "**Utilisation de la librairie PIL :**\n",
    "* ouvrir une image `Image.open(nom du fichier)`\n",
    "* Récuperer les valeurs des pixels de notre image `monimage.getdata()`, il faut la transformer en liste avec la commande `list(...)`\n"
   ]
  },
  {
   "cell_type": "code",
   "execution_count": null,
   "metadata": {},
   "outputs": [],
   "source": [
    "from PIL import Image\n",
    "\n",
    "ecrit1 = Image.open(\"ecrit1.pgm\")\n",
    "# met l'image dans un tableau qui est de dimension 784\n",
    "img1 =list(ecrit1.getdata())\n",
    "\n",
    "#Compléter le code\n",
    "..."
   ]
  },
  {
   "cell_type": "markdown",
   "metadata": {},
   "source": [
    "### 2.3 les k plus proches voisins\n",
    "\n",
    "Sur le dessin ci-dessous nous avons représenté un chiffre que l'on cherche à l’identifier. PoAutrement dit, on cherche à déterminer les,proches voisins du caractère entouré.\n",
    "\n",
    "![trouver](trouver.png)\n",
    "4. Déterminer les 3-plus proches voisins."
   ]
  },
  {
   "cell_type": "raw",
   "metadata": {},
   "source": []
  },
  {
   "cell_type": "markdown",
   "metadata": {},
   "source": [
    "5. Déterminer les 6-plus proches voisins."
   ]
  },
  {
   "cell_type": "raw",
   "metadata": {},
   "source": []
  },
  {
   "cell_type": "markdown",
   "metadata": {},
   "source": [
    "6. Que peut-on en déduire ?"
   ]
  },
  {
   "cell_type": "raw",
   "metadata": {},
   "source": []
  },
  {
   "cell_type": "markdown",
   "metadata": {},
   "source": [
    "## 2. Parcours d’un jeu de données\n",
    "\n",
    "### 1. Principe\n",
    "\n",
    "Avant même d'implanter l'algorithme des *k* plus proches voisins, nous avons besoin d'exemples qui seront traités par celui-ci. Aussi, commençons par lire un jeu de données.\n",
    "\n",
    "Il s'agit du jeu de données, très utilisé en apprentissage automatique, appelé MNIST. Il est constitué d'un ensemble de 70000 images, de format 28x28 pixels, en noir et blanc annoté du chiffre correspondant (entre 0 et 9). Ce jeu utilise des données réelles qui ont déjà été pré-traitées pour être plus facilement utilisables par notre algorithme.\n",
    "\n",
    "![Un extrait du type d'images que l'on trouve dans le dataset MNIST](extrait_MNIST.png)\n",
    "\n",
    "Nous prendrons de cette base de données un extrait de 5000 données uniquement, afin de limiter les temps de calcul de notre algorithme.\n",
    "\n",
    "Il nous faut obtenir deux listes, **data** et **target**.\n",
    "\n",
    "* **data** contient les images sous forme d'une liste de 28*28 = 784 entiers compris entre 0 et 255 correspondant aux différentes nuances de gris (255 étant blanc et 0 noir)\n",
    "* **target** contient les chiffres (de type int) correspondant à l'image\n",
    "\n",
    "Tout d’abord on récupère la base de donnée complète (cela peut prendre beaucoup de temps) :"
   ]
  },
  {
   "cell_type": "code",
   "execution_count": null,
   "metadata": {},
   "outputs": [],
   "source": [
    "from sklearn.datasets import fetch_openml # Note : il faut avoir installé la librairie sklearn pour python\n",
    "\n",
    "mnist = fetch_openml('mnist_784', version=1)"
   ]
  },
  {
   "cell_type": "markdown",
   "metadata": {},
   "source": [
    "Ensuite on en prend l’extrait que l’on met sous la forme qui nous convient (on aura besoin de 1000 autres images plus tard, d’où les 6000) :"
   ]
  },
  {
   "cell_type": "code",
   "execution_count": null,
   "metadata": {},
   "outputs": [],
   "source": [
    "import numpy as np\n",
    "\n",
    "sample = np.random.randint(70000, size=6000)\n",
    "\n",
    "data = [mnist.data[i].astype(int).tolist() for i in sample[:5000]]\n",
    "\n",
    "target = [int(mnist.target[i]) for i in sample[:5000]]"
   ]
  },
  {
   "cell_type": "markdown",
   "metadata": {},
   "source": [
    "7. Afficher la liste correspondant à l’image d’indice 23 du jeu de données. À quel chiffre corrrespond cette image ?"
   ]
  },
  {
   "cell_type": "code",
   "execution_count": null,
   "metadata": {},
   "outputs": [],
   "source": [
    "# Compléter le code \n"
   ]
  },
  {
   "cell_type": "markdown",
   "metadata": {},
   "source": [
    "8. Dans la cellule ci-dessous, prendre deux élèments quelconques au choix de notre jeu de données, nommées image1 et image2. calculer alors la distance entre ces deux images et indiquer le chiffre que chacune représente."
   ]
  },
  {
   "cell_type": "code",
   "execution_count": null,
   "metadata": {},
   "outputs": [],
   "source": [
    "# compléter le code \n",
    "\n",
    "image1 = ...\n",
    "image2 = ...\n"
   ]
  },
  {
   "cell_type": "markdown",
   "metadata": {},
   "source": [
    "## 3. Déterminer les *k* plus proches voisins d'un point\n",
    "\n",
    "### 3.1 Le plus proche voisin\n",
    "\n",
    "9. Écrire une fonction lePlusProcheVoisin qui prend en paramètre une image (toujours une liste de 784 entiers compris entre 0 et 255) et renvoie l'indice dans data du plus proche voisin."
   ]
  },
  {
   "cell_type": "code",
   "execution_count": null,
   "metadata": {},
   "outputs": [],
   "source": [
    "# compléter le code \n",
    "\n",
    "def lePlusProcheVoisin (image):\n",
    "    lePlusPres = 0\n",
    "    distanceMin = float(\"inf\")\n",
    "    for i in range(len(data)):\n",
    "        ...\n",
    "        ...\n",
    "        \n",
    "        \n",
    "    return (lePlusPres)"
   ]
  },
  {
   "cell_type": "markdown",
   "metadata": {},
   "source": [
    "10. Appliquer cet algorithme à image1 et image2, et vérifier si l’algorithme a trouvé un voisin qui représente le même chiffre."
   ]
  },
  {
   "cell_type": "code",
   "execution_count": null,
   "metadata": {},
   "outputs": [],
   "source": [
    "# compléter le code \n"
   ]
  },
  {
   "cell_type": "markdown",
   "metadata": {},
   "source": [
    "On remarque éventuellement que ce n’est pas forcément parfait, le résultat n’étant pas toujours celui attendu."
   ]
  },
  {
   "cell_type": "markdown",
   "metadata": {},
   "source": [
    "### 3.2 Les *k* plus proches voisins\n",
    "\n",
    "11. Écrire une fonction lesKplusProchesVoisins qui prend en paramètre une image et une valeur de k et renvoie la liste des indices dans data des k plus proches voisins. Quand vous prenez k = 1, cette fonction doit renvoyer le même résultat que la précédente, mis à part le fait que lePlusProcheVoisin renvoie une valeur numérique alors que lesKplusProchesVoisins renvoie une liste d'un élément."
   ]
  },
  {
   "cell_type": "code",
   "execution_count": null,
   "metadata": {},
   "outputs": [],
   "source": [
    "# compléter le code\n",
    "def lesKplusProchesVoisins (image, k):\n",
    "    listeDesDistances = []\n",
    "    # remplir un tableau avec toutes les distances entre les images de data et notre image\n",
    "    for ...\n",
    "        ...\n",
    "    Kppv = []\n",
    "    # On va déterminer les k plus proches voisins\n",
    "    for i in range (k):\n",
    "        p = float (\"inf\")\n",
    "        for j in range (len (data)):\n",
    "            # listeDesDistances [j]: représente la distance entre data[j] et notre image\n",
    "            # à quelle condition cette distance est à prendre en compte ?\n",
    "            # Compléter le test!\n",
    "            if ... :\n",
    "                p = listeDesDistances [j]\n",
    "                indice = j\n",
    "        Kppv.append (indice)\n",
    "    return (Kppv)\n"
   ]
  },
  {
   "cell_type": "markdown",
   "metadata": {},
   "source": [
    "12. Exécuter l’algorithme avec image1 et k=5, puis donner la liste des chiffres associés aux images dont l’algorithme donne les indices dans notre base."
   ]
  },
  {
   "cell_type": "code",
   "execution_count": null,
   "metadata": {},
   "outputs": [],
   "source": [
    "# compléter le code \n"
   ]
  },
  {
   "cell_type": "markdown",
   "metadata": {},
   "source": [
    "## 4. Prédire l'étiquette d'une donnée\n",
    "\n",
    "13. Écrire une fonction *predire* qui prend en paramètres une image dans le même format que celles de data et un entier *k* et retourne le chiffre qui est prédit, c'est à dire le chiffre qui est supposé être représenté sur l'image. On décide du chiffre représenté sur l'image en appliquant un choix à la majorité, à savoir le chiffre qui apparaît majoritairement sur les *k* plus proches voisins. Donner alors la valeur prédite pour image1, toujours pour k=5."
   ]
  },
  {
   "cell_type": "code",
   "execution_count": null,
   "metadata": {},
   "outputs": [],
   "source": [
    "# compléter le code \n",
    "\n",
    "def predire (l,k):\n",
    "    Kppv = lesKplusProchesVoisins(l,k)\n",
    "    decomptes = [0]*10\n",
    "    # target[indice] est le chiffre représenté par l'image data[indice] voir 2.1\n",
    "    for indice in Kppv:\n",
    "        decomptes[target[indice]] += 1\n",
    "    # Que contiennent decomptes[0], decomptes[1],... ?\n",
    "    # Que faut-il retourner ?\n",
    "    ...\n",
    "    \n",
    "    return ...\n",
    "\n",
    "print(predire(image1,5))"
   ]
  },
  {
   "cell_type": "markdown",
   "metadata": {},
   "source": [
    "## 5. Optimisation"
   ]
  },
  {
   "cell_type": "markdown",
   "metadata": {},
   "source": [
    "Prenons maintenant un jeu d’images à tester, qui sont en dehors de la base des 5000 images traitées par l’algorithme."
   ]
  },
  {
   "cell_type": "code",
   "execution_count": null,
   "metadata": {},
   "outputs": [],
   "source": [
    "data_test = [mnist.data[i].astype(int).tolist() for i in sample[5000:]]\n",
    "target_test = [int(mnist.target[i]) for i in sample[5000:]]"
   ]
  },
  {
   "cell_type": "markdown",
   "metadata": {},
   "source": [
    "Notre but est de calculer le taux d’erreur des prédictions, puis de chercher la meilleure valeur de *k* à choisir pour diminuer celui-ci.\n",
    "\n",
    "14. Écrire une fonction qui calcule le taux d’erreur sur les prédictions portant sur le jeu d’images à tester. Exécuter ensuite cette fonction pour une valeur de *k* choisie entre 2 et 7."
   ]
  },
  {
   "cell_type": "code",
   "execution_count": null,
   "metadata": {},
   "outputs": [],
   "source": [
    "# compléter le code \n",
    "def taux_erreur(k):\n",
    "    '''\n",
    "    calcule le taux d'erreur avec la valeur k pour les k plus proches voisins\n",
    "    '''\n",
    "    ...\n",
    "    \n",
    "\n",
    "print(taux_erreur(5))"
   ]
  },
  {
   "cell_type": "markdown",
   "metadata": {},
   "source": [
    "15. Écrire une fonction optimisation(n) qui détermine la valeur de *k*, entre 1 et n, qui minimise le taux d’erreur, puis donner le résultat de cette fonction avec n=7."
   ]
  },
  {
   "cell_type": "code",
   "execution_count": null,
   "metadata": {},
   "outputs": [],
   "source": [
    "# compléter le code \n",
    "def optimisation(n):\n",
    "    '''\n",
    "    détermine quelle valeur de k donne la meilleure prédiction, avec k entre 1 et n\n",
    "    '''\n",
    "    ...\n",
    "\n",
    "print(optimisation(7))"
   ]
  }
 ],
 "metadata": {
  "kernelspec": {
   "display_name": "Python 3",
   "language": "python",
   "name": "python3"
  },
  "language_info": {
   "codemirror_mode": {
    "name": "ipython",
    "version": 3
   },
   "file_extension": ".py",
   "mimetype": "text/x-python",
   "name": "python",
   "nbconvert_exporter": "python",
   "pygments_lexer": "ipython3",
   "version": "3.7.3"
  }
 },
 "nbformat": 4,
 "nbformat_minor": 2
}
